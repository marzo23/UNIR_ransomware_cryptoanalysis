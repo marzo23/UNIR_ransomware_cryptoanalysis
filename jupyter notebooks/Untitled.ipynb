{
 "cells": [
  {
   "cell_type": "code",
   "execution_count": 2,
   "id": "87834299",
   "metadata": {},
   "outputs": [],
   "source": [
    "import pandas as pd\n",
    "import numpy as np\n",
    "from tensorflow.keras.preprocessing.text import Tokenizer\n",
    "import tensorflow as tf\n",
    "import ast\n",
    "import os\n",
    "import json\n",
    "import matplotlib.pyplot as plt\n",
    "from nltk import tokenize\n",
    "import seaborn as sns\n",
    "import binascii"
   ]
  },
  {
   "cell_type": "code",
   "execution_count": null,
   "id": "e045f9ad",
   "metadata": {},
   "outputs": [],
   "source": [
    "dataset_pd = pd.read_csv(\"C:\\\\Users\\\\crist\\\\Documents\\\\AES tests\\\\tstnew1_output.csv\")\n",
    "\n",
    "dataset_pd[\"ENCRYPTED\"] = dataset_pd[\"ENCRYPTED\"].apply(lambda t: [i for i in binascii.unhexlify(t)])\n",
    "\n",
    "def create_character_tokenizer(list_of_strings):\n",
    "    tokenizer = Tokenizer(filters=None,\n",
    "                         char_level=True, \n",
    "                          split=None,\n",
    "                         lower=False)\n",
    "    tokenizer.fit_on_texts(list_of_strings)\n",
    "    return tokenizer\n",
    "\n",
    "\n",
    "tokenizer = create_character_tokenizer(dataset_pd[\"TEXT\"])\n",
    "\n",
    "tokenizer_config = tokenizer.get_config()\n",
    "\n",
    "word_counts = json.loads(tokenizer_config['word_counts'])\n",
    "index_word = json.loads(tokenizer_config['index_word'])\n",
    "word_index = json.loads(tokenizer_config['word_index'])\n",
    "\n",
    "def strings_to_sequences(tokenizer, list_of_strings):\n",
    "    sentence_seq = tokenizer.texts_to_sequences(list_of_strings)\n",
    "    return sentence_seq\n",
    "\n",
    "\n",
    "seq_texts = strings_to_sequences(tokenizer, dataset_pd[\"TEXT\"])\n",
    "dataset_pd[\"TEXT\"] = seq_texts\n",
    "\n",
    "\n",
    "x = dataset_pd[\"TEXT\"]\n",
    "x = [np.asarray(i) for i in x]\n",
    "\n",
    "y = dataset_pd[\"ENCRYPTED\"]\n",
    "y = [np.asarray(i) for i in y]"
   ]
  },
  {
   "cell_type": "code",
   "execution_count": null,
   "id": "cf38bf73",
   "metadata": {},
   "outputs": [],
   "source": []
  }
 ],
 "metadata": {
  "kernelspec": {
   "display_name": "Python 3 (ipykernel)",
   "language": "python",
   "name": "python3"
  },
  "language_info": {
   "codemirror_mode": {
    "name": "ipython",
    "version": 3
   },
   "file_extension": ".py",
   "mimetype": "text/x-python",
   "name": "python",
   "nbconvert_exporter": "python",
   "pygments_lexer": "ipython3",
   "version": "3.9.6"
  }
 },
 "nbformat": 4,
 "nbformat_minor": 5
}
